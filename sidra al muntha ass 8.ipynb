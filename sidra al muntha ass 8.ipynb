{
  "cells": [
    {
      "cell_type": "code",
      "source": [
        "# Q1. String Length\n",
        "text = input(\"Enter a string: \")\n",
        "print(\"Length of string:\", len(text))\n",
        "\n",
        "# Q2. Uppercase and Lowercase\n",
        "text = input(\"Enter a string: \")\n",
        "print(\"Uppercase:\", text.upper())\n",
        "print(\"Lowercase:\", text.lower())\n",
        "\n",
        "# Q3. First and Last Character\n",
        "text = input(\"Enter a string: \")\n",
        "print(\"First character:\", text[0])\n",
        "print(\"Last character:\", text[-1])\n",
        "\n",
        "# Q4. Count Letter\n",
        "text = input(\"Enter a string: \")\n",
        "letter = input(\"Enter a letter to count: \")\n",
        "print(\"Count of\", letter, \":\", text.count(letter))\n",
        "\n",
        "# Q5. Replace Word\n",
        "sentence = \"The weather is bad today.\"\n",
        "print(\"Original:\", sentence)\n",
        "print(\"After replacement:\", sentence.replace(\"bad\", \"good\"))\n",
        "\n",
        "# Q6. Print Characters in Loop\n",
        "text = input(\"Enter a string: \")\n",
        "print(\"Characters one by one:\")\n",
        "for ch in text:\n",
        "    print(ch)\n",
        "\n",
        "# Q7. Palindrome Check\n",
        "text = input(\"Enter a string: \")\n",
        "if text == text[::-1]:\n",
        "    print(\"It is a palindrome\")\n",
        "else:\n",
        "    print(\"It is not a palindrome\")\n",
        "\n",
        "# Q8. Join List into String\n",
        "words = [\"I\", \"love\", \"Python\"]\n",
        "sentence = \" \".join(words)\n",
        "print(\"Joined string:\", sentence)\n"
      ],
      "metadata": {
        "id": "togvvTMLGhJk"
      },
      "execution_count": null,
      "outputs": []
    }
  ],
  "metadata": {
    "colab": {
      "provenance": []
    },
    "kernelspec": {
      "display_name": "Python 3",
      "name": "python3"
    }
  },
  "nbformat": 4,
  "nbformat_minor": 0
}