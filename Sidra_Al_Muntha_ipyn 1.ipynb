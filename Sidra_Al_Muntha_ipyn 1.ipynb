{
  "nbformat": 4,
  "nbformat_minor": 0,
  "metadata": {
    "colab": {
      "provenance": []
    },
    "kernelspec": {
      "name": "python3",
      "display_name": "Python 3"
    },
    "language_info": {
      "name": "python"
    }
  },
  "cells": [
    {
      "cell_type": "code",
      "source": [
        "# 1. Age Calculator\n",
        "birth_year = int(input(\"Enter your birth year: \"))\n",
        "current_year = int(input(\"Enter the current year: \"))\n",
        "age = current_year - birth_year\n",
        "print(\"Your age is:\", age)\n"
      ],
      "metadata": {
        "colab": {
          "base_uri": "https://localhost:8080/"
        },
        "id": "HXW5LhvV5YfH",
        "outputId": "44bdf7f5-8894-4c81-e018-f9e64cccbb77"
      },
      "execution_count": null,
      "outputs": [
        {
          "output_type": "stream",
          "name": "stdout",
          "text": [
            "Enter your birth year: 2002\n",
            "Enter the current year: 2025\n",
            "Your age is: 23\n"
          ]
        }
      ]
    },
    {
      "cell_type": "code",
      "source": [
        "# 2. Simple Interest\n",
        "P = float(input(\"Enter Principal amount: \"))\n",
        "R = float(input(\"Enter Rate of Interest: \"))\n",
        "T = float(input(\"Enter Time (in years): \"))\n",
        "SI = (P * R * T) / 100\n",
        "print(\"Simple Interest is:\", SI)\n"
      ],
      "metadata": {
        "id": "sLj8p5XGUiDv",
        "colab": {
          "base_uri": "https://localhost:8080/"
        },
        "outputId": "ddfb9c92-1b46-41b4-a4b3-2544c3292961"
      },
      "execution_count": 1,
      "outputs": [
        {
          "output_type": "stream",
          "name": "stdout",
          "text": [
            "Enter Principal amount: 5\n",
            "Enter Rate of Interest: 9\n",
            "Enter Time (in years): 2\n",
            "Simple Interest is: 0.9\n"
          ]
        }
      ]
    },
    {
      "cell_type": "code",
      "source": [
        "# 3. Area of a Rectangle\n",
        "length = float(input(\"Enter the length of rectangle: \"))\n",
        "width = float(input(\"Enter the width of rectangle: \"))\n",
        "area = length * width\n",
        "print(\"Area of Rectangle is:\", area)\n",
        "\n"
      ],
      "metadata": {
        "id": "6XLyZC0_-9ho"
      },
      "execution_count": null,
      "outputs": []
    },
    {
      "cell_type": "code",
      "source": [
        "# 4. Circle Properties\n",
        "radius = float(input(\"Enter radius of circle: \"))\n",
        "pi = 3.14159\n",
        "area = pi * radius * radius\n",
        "circumference = 2 * pi * radius\n",
        "print(\"Area of Circle:\", area)\n",
        "print(\"Circumference of Circle:\", circumference)\n",
        "\n"
      ],
      "metadata": {
        "id": "qP4xBaUvBNzx"
      },
      "execution_count": null,
      "outputs": []
    },
    {
      "cell_type": "code",
      "source": [
        "# 5. Temperature Conversion (Celsius to Fahrenheit)\n",
        "C = float(input(\"Enter temperature in Celsius: \"))\n",
        "F = (C * 9/5) + 32\n",
        "print(\"Temperature in Fahrenheit:\", F)\n",
        "\n"
      ],
      "metadata": {
        "id": "wevM9QJWBSt0"
      },
      "execution_count": null,
      "outputs": []
    },
    {
      "cell_type": "code",
      "source": [
        "# 6. Average of Three Numbers\n",
        "num1 = float(input(\"Enter first number: \"))\n",
        "num2 = float(input(\"Enter second number: \"))\n",
        "num3 = float(input(\"Enter third number: \"))\n",
        "average = (num1 + num2 + num3) / 3\n",
        "print(\"Average of three numbers is:\", average)\n",
        "\n"
      ],
      "metadata": {
        "id": "cMf0UiDZBWXG"
      },
      "execution_count": null,
      "outputs": []
    }
  ]
}