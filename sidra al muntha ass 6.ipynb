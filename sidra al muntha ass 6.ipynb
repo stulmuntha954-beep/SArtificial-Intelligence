{
  "cells": [
    {
      "cell_type": "code",
      "source": [
        "# Q1: Create a list of 7 numbers. Print only the even numbers.\n",
        "numbers = [3, 6, 9, 12, 15, 18, 21]\n",
        "print(\"Even numbers:\")\n",
        "for num in numbers:\n",
        "    if num % 2 == 0:\n",
        "        print(num)\n",
        "\n",
        "# Q2: Check if a student name exists in the list.\n",
        "students = [\"Ali\", \"Sara\", \"Ahmed\", \"Zara\", \"Omar\"]\n",
        "name = input(\"\\nEnter a student name: \")\n",
        "if name in students:\n",
        "    print(\"Found\")\n",
        "else:\n",
        "    print(\"Not Found\")\n",
        "\n",
        "# Q3: Print maximum and minimum numbers without using max() or min().\n",
        "nums = [25, 12, 45, 2, 38, 19]\n",
        "max_num = nums[0]\n",
        "min_num = nums[0]\n",
        "for n in nums:\n",
        "    if n > max_num:\n",
        "        max_num = n\n",
        "    if n < min_num:\n",
        "        min_num = n\n",
        "print(\"\\nMaximum:\", max_num, \"Minimum:\", min_num)\n",
        "\n",
        "# Q4: Multiply each number by 3 and store in a new list.\n",
        "original = [2, 4, 6, 8, 10]\n",
        "multiplied = [n * 3 for n in original]\n",
        "print(\"\n"
      ],
      "metadata": {
        "id": "VK9lmfgGG6y5"
      },
      "execution_count": null,
      "outputs": []
    }
  ],
  "metadata": {
    "colab": {
      "provenance": []
    },
    "kernelspec": {
      "display_name": "Python 3",
      "name": "python3"
    }
  },
  "nbformat": 4,
  "nbformat_minor": 0
}