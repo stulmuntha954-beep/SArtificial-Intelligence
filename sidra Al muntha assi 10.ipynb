{
  "nbformat": 4,
  "nbformat_minor": 0,
  "metadata": {
    "colab": {
      "provenance": []
    },
    "kernelspec": {
      "name": "python3",
      "display_name": "Python 3"
    },
    "language_info": {
      "name": "python"
    }
  },
  "cells": [
    {
      "cell_type": "code",
      "source": [
        "# Ask user for name and age\n",
        "name = input(\"Enter your name: \")\n",
        "age = input(\"Enter your age: \")\n",
        "\n",
        "# Open file in write mode\n",
        "with open(\"info.txt\", \"w\") as file:\n",
        "    file.write(f\"Name: {name}\\n\")\n",
        "    file.write(f\"Age: {age}\\n\")\n",
        "\n",
        "print(\"Information saved to info.txt\")\n"
      ],
      "metadata": {
        "id": "qXSSs1vYzdGa"
      },
      "execution_count": null,
      "outputs": []
    },
    {
      "cell_type": "code",
      "source": [
        "# Open the file in read mode\n",
        "with open(\"info.txt\", \"r\") as file:\n",
        "    content = file.read()  # Read entire content of the file\n",
        "\n",
        "# Display the content\n",
        "print(\"Contents of info.txt:\")\n",
        "print(content)\n"
      ],
      "metadata": {
        "id": "noDT8_KNzkzs"
      },
      "execution_count": null,
      "outputs": []
    },
    {
      "cell_type": "code",
      "source": [
        "# Open the file in append mode\n",
        "with open(\"info.txt\", \"a\") as file:\n",
        "    file.write(\"This file was updated successfully!\\n\")\n",
        "\n",
        "print(\"Text appended to info.txt successfully.\")\n"
      ],
      "metadata": {
        "id": "3XVOTAdc0T_v"
      },
      "execution_count": null,
      "outputs": []
    },
    {
      "cell_type": "code",
      "source": [
        "# Step 1: Write to the file\n",
        "with open(\"data.txt\", \"w\") as file:\n",
        "    file.write(\"Welcome to Dart File Handling\")\n",
        "\n",
        "# Step 2: Read and display the content\n",
        "with open(\"data.txt\", \"r\") as file:\n",
        "    content = file.read()\n",
        "print(\"Initial content of data.txt:\")\n",
        "print(content)\n",
        "\n",
        "# Step 3: Append text to the file\n",
        "with open(\"data.txt\", \"a\") as file:\n",
        "    file.write(\" - End of File\")\n",
        "\n",
        "# Step 4: Read and display the updated content\n",
        "with open(\"data.txt\", \"r\") as file:\n",
        "    updated_content = file.read()\n",
        "print(\"\\nUpdated content of data.txt:\")\n",
        "print(updated_content)\n"
      ],
      "metadata": {
        "id": "fZA-SQuZ1CVs"
      },
      "execution_count": null,
      "outputs": []
    },
    {
      "cell_type": "code",
      "source": [
        "# Open the source file in read mode\n",
        "with open(\"info.txt\", \"r\") as source_file:\n",
        "    content = source_file.read()  # Read all content\n",
        "\n",
        "# Open the destination file in write mode\n",
        "with open(\"copy_info.txt\", \"w\") as dest_file:\n",
        "    dest_file.write(content)  # Write content to new file\n",
        "\n",
        "print(\"Content copied from info.txt to copy_info.txt successfully.\")\n"
      ],
      "metadata": {
        "id": "5hw5c_nf1VZV"
      },
      "execution_count": null,
      "outputs": []
    },
    {
      "cell_type": "code",
      "source": [
        "# Open the file in read mode\n",
        "with open(\"data.txt\", \"r\") as file:\n",
        "    lines = file.readlines()  # Read all lines\n",
        "\n",
        "# Count lines\n",
        "line_count = len(lines)\n",
        "\n",
        "# Count words\n",
        "word_count = sum(len(line.split()) for line in lines)\n",
        "\n",
        "# Display the results\n",
        "print(f\"Number of lines: {line_count}\")\n",
        "print(f\"Number of words: {word_count}\")\n"
      ],
      "metadata": {
        "id": "nSkJsp6t1aCD"
      },
      "execution_count": null,
      "outputs": []
    },
    {
      "cell_type": "code",
      "source": [
        "# Open the first file and read its content\n",
        "with open(\"file1.txt\", \"r\") as file1:\n",
        "    content1 = file1.read()\n",
        "\n",
        "# Open the second file and read its content\n",
        "with open(\"file2.txt\", \"r\") as file2:\n",
        "    content2 = file2.read()\n",
        "\n",
        "# Open the merged file in write mode and combine contents\n",
        "with open(\"merged.txt\", \"w\") as merged_file:\n",
        "    merged_file.write(content1 + \"\\n\" + content2)\n",
        "\n",
        "print(\"Files merged successfully into merged.txt\")\n"
      ],
      "metadata": {
        "id": "HE_8631v1eUb"
      },
      "execution_count": null,
      "outputs": []
    }
  ]
}