{
  "cells": [
    {
      "cell_type": "code",
      "source": [
        "# Q1: Create a list of 5 fruits. Print the first and last fruit.\n",
        "fruits = [\"Apple\", \"Banana\", \"Orange\", \"Grapes\", \"Mango\"]\n",
        "print(f\"First fruit: {fruits[0]}, Last fruit: {fruits[-1]}\")\n",
        "\n",
        "# Q2: Create a list of numbers [10, 20, 30, 40, 50]. Print the sum of all numbers in the list.\n",
        "numbers = [10, 20, 30, 40, 50]\n",
        "print(f\"Sum of numbers: {sum(numbers)}\")\n",
        "\n",
        "# Q3: Make a list of 4 colors. Replace the 2nd color with a new one and print the updated list.\n",
        "colors = [\"Red\", \"Blue\", \"Green\", \"Yellow\"]\n",
        "colors[1] = \"Purple\"   # Replacing 2nd color (index 1)\n",
        "print(f\"Updated colors list: {colors}\")\n",
        "\n",
        "# Q4: Create a list [5, 10, 15, 20, 25]. Remove the number 15 and print the updated list.\n",
        "nums = [5, 10, 15, 20, 25]\n",
        "nums.remove(15)\n",
        "print(f\"Updated list after removing 15: {nums}\")\n"
      ],
      "metadata": {
        "id": "8CaUl2TlFnnP"
      },
      "execution_count": null,
      "outputs": []
    }
  ],
  "metadata": {
    "colab": {
      "provenance": []
    },
    "kernelspec": {
      "display_name": "Python 3",
      "name": "python3"
    }
  },
  "nbformat": 4,
  "nbformat_minor": 0
}