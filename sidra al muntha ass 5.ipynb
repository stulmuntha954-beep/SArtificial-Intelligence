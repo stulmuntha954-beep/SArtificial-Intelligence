{
  "cells": [
    {
      "cell_type": "code",
      "source": [
        "# 1. Create a dictionary to store student information\n",
        "student = {\n",
        "    \"Name\": \"Ali\",\n",
        "    \"Age\": 16,\n",
        "    \"Class\": \"10th\"\n",
        "}\n",
        "print(\"Student Dictionary:\", student)\n",
        "\n",
        "# 2. Access and print only the Age\n",
        "print(\"Age:\", student[\"Age\"])\n",
        "\n",
        "# 3. Add a new key-value pair \"grade\": \"A\"\n",
        "student[\"Grade\"] = \"A\"\n",
        "print(\"After adding grade:\", student)\n",
        "\n",
        "# 4. Update the age of the dictionary to 20\n",
        "student[\"Age\"] = 20\n",
        "print(\"After updating age:\", student)\n",
        "\n",
        "# 5. Write a program to delete the key \"city\" from this dictionary\n",
        "student_with_city = {\n",
        "    \"Name\": \"Ali\",\n"
      ],
      "metadata": {
        "id": "B2M3z4SlGMyY"
      },
      "execution_count": null,
      "outputs": []
    }
  ],
  "metadata": {
    "colab": {
      "provenance": []
    },
    "kernelspec": {
      "display_name": "Python 3",
      "name": "python3"
    }
  },
  "nbformat": 4,
  "nbformat_minor": 0
}