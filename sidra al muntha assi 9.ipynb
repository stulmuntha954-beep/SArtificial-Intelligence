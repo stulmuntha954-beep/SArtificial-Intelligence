{
  "nbformat": 4,
  "nbformat_minor": 0,
  "metadata": {
    "colab": {
      "provenance": []
    },
    "kernelspec": {
      "name": "python3",
      "display_name": "Python 3"
    },
    "language_info": {
      "name": "python"
    }
  },
  "cells": [
    {
      "cell_type": "code",
      "source": [
        "class Car:\n",
        "    def __init__(self, brand, model, year):\n",
        "        self.brand = brand\n",
        "        self.model = model\n",
        "        self.year = year\n",
        "\n",
        "    def car_info(self):\n",
        "        print(f\"Car Details: {self.year} {self.brand} {self.model}\")\n",
        "\n",
        "\n",
        "# Create objects\n",
        "car1 = Car(\"Toyota\", \"Corolla\", 2020)\n",
        "car2 = Car(\"Honda\", \"Civic\", 2022)\n",
        "\n",
        "# Call methods\n",
        "car1.car_info()\n",
        "car2.car_info()\n"
      ],
      "metadata": {
        "id": "G4DYHwJrwKI9",
        "outputId": "cb25d424-d21e-4d1e-e8f9-04588ea1ef10",
        "colab": {
          "base_uri": "https://localhost:8080/"
        }
      },
      "execution_count": 6,
      "outputs": [
        {
          "output_type": "stream",
          "name": "stdout",
          "text": [
            "Car Details: 2020 Toyota Corolla\n",
            "Car Details: 2022 Honda Civic\n"
          ]
        }
      ]
    },
    {
      "cell_type": "code",
      "source": [
        "class Student:\n",
        "    def __init__(self, name, roll_no, marks):\n",
        "        self.name = name\n",
        "        self.roll_no = roll_no\n",
        "        self.marks = marks\n",
        "\n",
        "    def display_result(self):\n",
        "        if self.marks >= 40:\n",
        "            print(f\"Student: {self.name} (Roll No: {self.roll_no}) - Passed with {self.marks} marks\")\n",
        "        else:\n",
        "            print(f\"Student: {self.name} (Roll No: {self.roll_no}) - Failed with {self.marks} marks\")\n",
        "\n",
        "\n",
        "# Create objects\n",
        "student1 = Student(\"Ali\", 101, 75)\n",
        "student2 = Student(\"Sara\", 102, 32)\n",
        "\n",
        "# Call methods\n",
        "student1.display_result()\n",
        "student2.display_result()\n"
      ],
      "metadata": {
        "id": "ZUkzaxNBwncJ",
        "outputId": "0498cf79-9741-4a20-f0d4-d02d02d00b6c",
        "colab": {
          "base_uri": "https://localhost:8080/"
        }
      },
      "execution_count": 7,
      "outputs": [
        {
          "output_type": "stream",
          "name": "stdout",
          "text": [
            "Student: Ali (Roll No: 101) - Passed with 75 marks\n",
            "Student: Sara (Roll No: 102) - Failed with 32 marks\n"
          ]
        }
      ]
    },
    {
      "cell_type": "code",
      "source": [
        "class Calculator:\n",
        "    def add(self, x, y):\n",
        "        return x + y\n",
        "\n",
        "    def subtract(self, x, y):\n",
        "        return x - y\n",
        "\n",
        "    def multiply(self, x, y):\n",
        "        return x * y\n",
        "\n",
        "    def divide(self, x, y):\n",
        "        if y != 0:\n",
        "            return x / y\n",
        "        else:\n",
        "            return \"Error: Division by zero not allowed!\"\n",
        "\n",
        "\n",
        "# Create object\n",
        "calc = Calculator()\n",
        "\n",
        "# Perform operations\n",
        "print(\"Addition:\", calc.add(10, 5))\n",
        "print(\"Subtraction:\", calc.subtract(10, 5))\n",
        "print(\"Multiplication:\", calc.multiply(10, 5))\n",
        "print(\"Division:\", calc.divide(10, 5))\n",
        "print(\"Division by zero check:\", calc.divide(10, 0))\n"
      ],
      "metadata": {
        "id": "e-FN4r9ZxdC7",
        "outputId": "baba7288-ec88-42af-d7b0-85d739d0fbae",
        "colab": {
          "base_uri": "https://localhost:8080/"
        }
      },
      "execution_count": 8,
      "outputs": [
        {
          "output_type": "stream",
          "name": "stdout",
          "text": [
            "Addition: 15\n",
            "Subtraction: 5\n",
            "Multiplication: 50\n",
            "Division: 2.0\n",
            "Division by zero check: Error: Division by zero not allowed!\n"
          ]
        }
      ]
    },
    {
      "cell_type": "code",
      "source": [
        "class Book:\n",
        "    def __init__(self, title, author, price):\n",
        "        self.title = title\n",
        "        self.author = author\n",
        "        self.price = price\n",
        "\n",
        "    def discounted_price(self, discount_percentage):\n",
        "        discount_amount = (discount_percentage / 100) * self.price\n",
        "        return self.price - discount_amount\n",
        "\n",
        "\n",
        "# Create objects\n",
        "book1 = Book(\"Python Basics\", \"John Smith\", 500)\n",
        "book2 = Book(\"Data Science 101\", \"Sara Ali\", 800)\n",
        "\n",
        "# Print discounted prices\n",
        "print(f\"{book1.title} after 20% discount: {book1.discounted_price(20)}\")\n",
        "print(f\"{book2.title} after 15% discount: {book2.discounted_price(15)}\")\n"
      ],
      "metadata": {
        "id": "Agrw0IQbxvba",
        "outputId": "4152dae5-1d15-46bb-a96b-3c256a72237a",
        "colab": {
          "base_uri": "https://localhost:8080/"
        }
      },
      "execution_count": 9,
      "outputs": [
        {
          "output_type": "stream",
          "name": "stdout",
          "text": [
            "Python Basics after 20% discount: 400.0\n",
            "Data Science 101 after 15% discount: 680.0\n"
          ]
        }
      ]
    },
    {
      "cell_type": "code",
      "source": [
        "class Calculator:\n",
        "    def add(self, x, y):\n",
        "        return x + y\n",
        "\n",
        "    def subtract(self, x, y):\n",
        "        return x - y\n",
        "\n",
        "    def multiply(self, x, y):\n",
        "        return x * y\n",
        "\n",
        "    def divide(self, x, y):\n",
        "        if y != 0:\n",
        "            return x / y\n",
        "        else:\n",
        "            return \"Error: Division by zero not allowed!\"\n",
        "\n",
        "\n",
        "# Create object\n",
        "calc = Calculator()\n",
        "\n",
        "# Perform operations\n",
        "print(\"Addition:\", calc.add(10, 5))\n",
        "print(\"Subtraction:\", calc.subtract(10, 5))\n",
        "print(\"Multiplication:\", calc.multiply(10, 5))\n",
        "print(\"Division:\", calc.divide(10, 5))\n",
        "print(\"Division by zero check:\", calc.divide(10, 0))\n"
      ],
      "metadata": {
        "id": "Qg4BjG-byGtk",
        "outputId": "e838ec9b-9643-442f-c22e-09b2df37fb0d",
        "colab": {
          "base_uri": "https://localhost:8080/"
        }
      },
      "execution_count": 10,
      "outputs": [
        {
          "output_type": "stream",
          "name": "stdout",
          "text": [
            "Addition: 15\n",
            "Subtraction: 5\n",
            "Multiplication: 50\n",
            "Division: 2.0\n",
            "Division by zero check: Error: Division by zero not allowed!\n"
          ]
        }
      ]
    },
    {
      "cell_type": "code",
      "source": [
        "# Parent class Father\n",
        "class Father:\n",
        "    def skills(self):\n",
        "        print(\"Driving, Teaching\")\n",
        "\n",
        "# Parent class Mother\n",
        "class Mother:\n",
        "    def skills(self):\n",
        "        print(\"Cooking, Painting\")\n",
        "\n",
        "# Child class inheriting from both Father and Mother\n",
        "class Child(Father, Mother):\n",
        "    def skills(self):\n",
        "        # Call Father's skills\n",
        "        Father.skills(self)\n",
        "        # Call Mother's skills\n",
        "        Mother.skills(self)\n",
        "        # Add Child's own skill\n",
        "        print(\"Programming\")\n",
        "\n",
        "# Create an instance of Child\n",
        "child = Child()\n",
        "child.skills()\n"
      ],
      "metadata": {
        "id": "0EicYNdwyN2y",
        "outputId": "fe00c6b6-96e9-4507-d0ca-976c66d7639f",
        "colab": {
          "base_uri": "https://localhost:8080/"
        }
      },
      "execution_count": 11,
      "outputs": [
        {
          "output_type": "stream",
          "name": "stdout",
          "text": [
            "Driving, Teaching\n",
            "Cooking, Painting\n",
            "Programming\n"
          ]
        }
      ]
    },
    {
      "cell_type": "code",
      "source": [
        "# Base class\n",
        "class Grandparent:\n",
        "    def show_generation(self):\n",
        "        print(\"I am Grandparent\")\n",
        "\n",
        "# Parent class inheriting from Grandparent\n",
        "class Parent(Grandparent):\n",
        "    def show_generation(self):\n",
        "        print(\"I am Parent\")\n",
        "\n",
        "# Child class inheriting from Parent\n",
        "class Child(Parent):\n",
        "    def show_generation(self):\n",
        "        print(\"I am Child\")\n",
        "\n",
        "# Create an instance of Child\n",
        "child = Child()\n",
        "child.show_generation()\n"
      ],
      "metadata": {
        "id": "Lbnu8T6hyz5P",
        "outputId": "c8aa2967-23e1-4d72-aab7-e1546832fc67",
        "colab": {
          "base_uri": "https://localhost:8080/"
        }
      },
      "execution_count": 12,
      "outputs": [
        {
          "output_type": "stream",
          "name": "stdout",
          "text": [
            "I am Child\n"
          ]
        }
      ]
    }
  ]
}