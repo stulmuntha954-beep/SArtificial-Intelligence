{
  "cells": [
    {
      "cell_type": "code",
      "source": [
        "# Q1: Create a dictionary with 3 fruits and their prices. Print the price of one fruit.\n",
        "fruits = {\"Apple\": 100, \"Banana\": 50, \"Mango\": 120}\n",
        "print(\"Price of Mango:\", fruits[\"Mango\"])\n",
        "\n",
        "# Q2: Make a dictionary of 3 students with their names as keys and marks as values. Print all the keys (names).\n",
        "students = {\"Ali\": 85, \"Sara\": 90, \"John\": 78}\n",
        "print(\"Student names:\", students.keys())\n",
        "\n",
        "# Q3: Create a dictionary of 5 countries and their capitals. Ask the user to input a country and print its capital.\n",
        "countries = {\"Pakistan\": \"Islamabad\", \"India\": \"New Delhi\", \"China\": \"Beijing\", \"USA\": \"Washington D.C.\", \"UK\": \"London\"}\n",
        "country = input(\"Enter a country: \")\n",
        "print(\"Capital:\", countries.get(country, \"Not found\"))\n",
        "\n",
        "# Q4: Create a dictionary with numbers as keys and their squares as values (for numbers 1 to 5).\n",
        "squares = {x: x**2 for x in range(1, 6)}\n",
        "print(\"Squares dictionary:\", squares)\n",
        "\n",
        "# Q5: Create a dictionary of a person with keys: name, age, city. Change the city to another one and print the updated dictionary.\n",
        "person = {\"name\": \"Ahmed\", \"age\": 25, \"city\": \"Karachi\"}\n",
        "person[\"city\"] = \"Lahore\"\n",
        "print(\"Updated person dictionary:\", person)\n",
        "\n",
        "# Q6: Create a dictionary of items in a store with their quantities. Add a new item to the dictionary and print it.\n",
        "store = {\"Pen\": 20, \"Notebook\": 15, \"Eraser\": 30}\n",
        "store[\"Pencil\"] = 50\n",
        "print(\"Updated store items:\", store)\n",
        "\n",
        "# Q7: Create a dictionary of student marks. Find and print the student with the highest marks.\n",
        "marks = {\"Ali\": 88, \"Sara\": 95, \"John\": 80, \"Hina\": 92}\n",
        "top_student = max(marks, key=marks.get)\n",
        "print(\"Top student:\", top_student, \"with marks:\", marks[top_student])\n",
        "\n",
        "# Q8: Make a nested dictionary and print only the grades of all students.\n",
        "students = {\n",
        "    \"Ali\": {\"age\": 20, \"grade\": \"A\"},\n",
        "    \"Sara\": {\"age\": 22, \"grade\": \"B\"}\n",
        "}\n",
        "print(\"Grades of all students:\")\n",
        "for name in students:\n",
        "    print(students[name][\"grade\"])\n",
        "\n",
        "# Q9: Create a dictionary and remove one key-value pair using pop(). Print the updated dictionary.\n",
        "my_dict = {\"a\": 1, \"b\": 2, \"c\": 3}\n",
        "my_dict.pop(\"b\")\n",
        "print(\"Updated dictionary after removing 'b':\", my_dict)\n"
      ],
      "metadata": {
        "id": "5PFaQGbAGRCP"
      },
      "execution_count": null,
      "outputs": []
    }
  ],
  "metadata": {
    "colab": {
      "provenance": []
    },
    "kernelspec": {
      "display_name": "Python 3",
      "name": "python3"
    }
  },
  "nbformat": 4,
  "nbformat_minor": 0
}